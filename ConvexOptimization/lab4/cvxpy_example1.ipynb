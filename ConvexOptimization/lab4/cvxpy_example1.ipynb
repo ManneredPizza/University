{
 "cells": [
  {
   "cell_type": "code",
   "execution_count": 1,
   "id": "66781ccc",
   "metadata": {},
   "outputs": [],
   "source": [
    "import cvxpy as cp\n",
    "import numpy as np"
   ]
  },
  {
   "cell_type": "markdown",
   "id": "a2424fbd",
   "metadata": {},
   "source": [
    "Upload/write your data"
   ]
  },
  {
   "cell_type": "code",
   "execution_count": 2,
   "id": "73fbcd1c",
   "metadata": {},
   "outputs": [],
   "source": [
    "A = np.array([[-2.30154,\t  1.74481],\n",
    "             [-0.761207,  0.319039],\n",
    "             [-0.24937,\t  1.46211]])\n",
    "\n",
    "b = np.array([5.6038, 1.09285, 1.53289])\n",
    "c = np.array([0.597384, -0.967418])"
   ]
  },
  {
   "cell_type": "markdown",
   "id": "451b9080",
   "metadata": {},
   "source": [
    "Define your problem"
   ]
  },
  {
   "cell_type": "markdown",
   "id": "4e19850f",
   "metadata": {},
   "source": [
    "$$\\min c^\\top x \\\\\n",
    "\\text{s.t. } Ax \\leq b$$"
   ]
  },
  {
   "cell_type": "code",
   "execution_count": 4,
   "id": "73a9338f",
   "metadata": {},
   "outputs": [
    {
     "name": "stdout",
     "output_type": "stream",
     "text": [
      "===============================================================================\n",
      "                                     CVXPY                                     \n",
      "                                     v1.4.0                                    \n",
      "===============================================================================\n",
      "(CVXPY) Oct 16 10:58:18 PM: Your problem has 2 variables, 1 constraints, and 0 parameters.\n",
      "(CVXPY) Oct 16 10:58:18 PM: It is compliant with the following grammars: DCP, DQCP\n",
      "(CVXPY) Oct 16 10:58:18 PM: (If you need to solve this problem multiple times, but with different data, consider using parameters.)\n",
      "(CVXPY) Oct 16 10:58:18 PM: CVXPY will first compile your problem; then, it will invoke a numerical solver to obtain a solution.\n",
      "(CVXPY) Oct 16 10:58:18 PM: Your problem is compiled with the CPP canonicalization backend.\n",
      "-------------------------------------------------------------------------------\n",
      "                                  Compilation                                  \n",
      "-------------------------------------------------------------------------------\n",
      "(CVXPY) Oct 16 10:58:18 PM: Compiling problem (target solver=MOSEK).\n",
      "(CVXPY) Oct 16 10:58:18 PM: Reduction chain: Dcp2Cone -> CvxAttr2Constr -> ConeMatrixStuffing -> MOSEK\n",
      "(CVXPY) Oct 16 10:58:18 PM: Applying reduction Dcp2Cone\n",
      "(CVXPY) Oct 16 10:58:18 PM: Applying reduction CvxAttr2Constr\n",
      "(CVXPY) Oct 16 10:58:18 PM: Applying reduction ConeMatrixStuffing\n",
      "(CVXPY) Oct 16 10:58:18 PM: Applying reduction MOSEK\n",
      "(CVXPY) Oct 16 10:58:18 PM: Finished problem compilation (took 1.182e-02 seconds).\n",
      "-------------------------------------------------------------------------------\n",
      "                                Numerical solver                               \n",
      "-------------------------------------------------------------------------------\n",
      "(CVXPY) Oct 16 10:58:18 PM: Invoking solver MOSEK  to obtain a solution.\n",
      "\n",
      "\n",
      "(CVXPY) Oct 16 10:58:18 PM: Problem\n",
      "(CVXPY) Oct 16 10:58:18 PM:   Name                   :                 \n",
      "(CVXPY) Oct 16 10:58:18 PM:   Objective sense        : maximize        \n",
      "(CVXPY) Oct 16 10:58:18 PM:   Type                   : LO (linear optimization problem)\n",
      "(CVXPY) Oct 16 10:58:18 PM:   Constraints            : 2               \n",
      "(CVXPY) Oct 16 10:58:18 PM:   Affine conic cons.     : 0               \n",
      "(CVXPY) Oct 16 10:58:18 PM:   Disjunctive cons.      : 0               \n",
      "(CVXPY) Oct 16 10:58:18 PM:   Cones                  : 0               \n",
      "(CVXPY) Oct 16 10:58:18 PM:   Scalar variables       : 3               \n",
      "(CVXPY) Oct 16 10:58:18 PM:   Matrix variables       : 0               \n",
      "(CVXPY) Oct 16 10:58:18 PM:   Integer variables      : 0               \n",
      "(CVXPY) Oct 16 10:58:18 PM: \n",
      "(CVXPY) Oct 16 10:58:18 PM: Optimizer started.\n",
      "(CVXPY) Oct 16 10:58:18 PM: Presolve started.\n",
      "(CVXPY) Oct 16 10:58:18 PM: Linear dependency checker started.\n",
      "(CVXPY) Oct 16 10:58:18 PM: Linear dependency checker terminated.\n",
      "(CVXPY) Oct 16 10:58:18 PM: Eliminator started.\n",
      "(CVXPY) Oct 16 10:58:18 PM: Freed constraints in eliminator : 0\n",
      "(CVXPY) Oct 16 10:58:18 PM: Eliminator terminated.\n",
      "(CVXPY) Oct 16 10:58:18 PM: Eliminator started.\n",
      "(CVXPY) Oct 16 10:58:18 PM: Freed constraints in eliminator : 0\n",
      "(CVXPY) Oct 16 10:58:18 PM: Eliminator terminated.\n",
      "(CVXPY) Oct 16 10:58:18 PM: Eliminator - tries                  : 2                 time                   : 0.00            \n",
      "(CVXPY) Oct 16 10:58:18 PM: Lin. dep.  - tries                  : 1                 time                   : 0.00            \n",
      "(CVXPY) Oct 16 10:58:18 PM: Lin. dep.  - primal attempts        : 1                 successes              : 1               \n",
      "(CVXPY) Oct 16 10:58:18 PM: Lin. dep.  - dual attempts          : 0                 successes              : 0               \n",
      "(CVXPY) Oct 16 10:58:18 PM: Lin. dep.  - primal deps.           : 0                 dual deps.             : 0               \n",
      "(CVXPY) Oct 16 10:58:18 PM: Presolve terminated. Time: 0.00    \n",
      "(CVXPY) Oct 16 10:58:18 PM: Optimizer  - threads                : 8               \n",
      "(CVXPY) Oct 16 10:58:18 PM: Optimizer  - solved problem         : the primal      \n",
      "(CVXPY) Oct 16 10:58:18 PM: Optimizer  - Constraints            : 2               \n",
      "(CVXPY) Oct 16 10:58:18 PM: Optimizer  - Cones                  : 0               \n",
      "(CVXPY) Oct 16 10:58:18 PM: Optimizer  - Scalar variables       : 3                 conic                  : 0               \n",
      "(CVXPY) Oct 16 10:58:18 PM: Optimizer  - Semi-definite variables: 0                 scalarized             : 0               \n",
      "(CVXPY) Oct 16 10:58:18 PM: Factor     - setup time             : 0.00            \n",
      "(CVXPY) Oct 16 10:58:18 PM: Factor     - dense det. time        : 0.00              GP order time          : 0.00            \n",
      "(CVXPY) Oct 16 10:58:18 PM: Factor     - nonzeros before factor : 3                 after factor           : 3               \n",
      "(CVXPY) Oct 16 10:58:18 PM: Factor     - dense dim.             : 0                 flops                  : 2.30e+01        \n",
      "(CVXPY) Oct 16 10:58:18 PM: ITE PFEAS    DFEAS    GFEAS    PRSTATUS   POBJ              DOBJ              MU       TIME  \n",
      "(CVXPY) Oct 16 10:58:18 PM: 0   7.2e-01  5.1e+00  1.6e+00  0.00e+00   -3.796283397e+00  -2.663216188e+00  5.9e-01  0.01  \n",
      "(CVXPY) Oct 16 10:58:18 PM: 1   5.7e-02  4.0e-01  1.3e-01  2.10e+00   -1.591305207e+00  -1.543414573e+00  4.6e-02  0.01  \n",
      "(CVXPY) Oct 16 10:58:18 PM: 2   1.1e-04  7.5e-04  2.4e-04  1.05e+00   -1.478406901e+00  -1.478329637e+00  8.6e-05  0.01  \n",
      "(CVXPY) Oct 16 10:58:18 PM: 3   1.1e-08  7.5e-08  2.4e-08  1.00e+00   -1.478186629e+00  -1.478186621e+00  8.6e-09  0.01  \n",
      "(CVXPY) Oct 16 10:58:18 PM: 4   1.0e-12  7.4e-12  2.3e-12  1.00e+00   -1.478186607e+00  -1.478186607e+00  8.6e-13  0.01  \n",
      "(CVXPY) Oct 16 10:58:18 PM: Optimizer terminated. Time: 0.02    \n",
      "(CVXPY) Oct 16 10:58:18 PM: \n",
      "(CVXPY) Oct 16 10:58:18 PM: \n",
      "(CVXPY) Oct 16 10:58:18 PM: Interior-point solution summary\n",
      "(CVXPY) Oct 16 10:58:18 PM:   Problem status  : PRIMAL_AND_DUAL_FEASIBLE\n",
      "(CVXPY) Oct 16 10:58:18 PM:   Solution status : OPTIMAL\n",
      "(CVXPY) Oct 16 10:58:18 PM:   Primal.  obj: -1.4781866068e+00   nrm: 1e+00    Viol.  con: 1e-12    var: 0e+00  \n",
      "(CVXPY) Oct 16 10:58:18 PM:   Dual.    obj: -1.4781866068e+00   nrm: 2e+00    Viol.  con: 0e+00    var: 4e-12  \n",
      "-------------------------------------------------------------------------------\n",
      "                                    Summary                                    \n",
      "-------------------------------------------------------------------------------\n",
      "(CVXPY) Oct 16 10:58:18 PM: Problem status: optimal\n",
      "(CVXPY) Oct 16 10:58:18 PM: Optimal value: -1.478e+00\n",
      "(CVXPY) Oct 16 10:58:18 PM: Compilation took 1.182e-02 seconds\n",
      "(CVXPY) Oct 16 10:58:18 PM: Solver (including time spent in interface) took 3.441e-02 seconds\n"
     ]
    },
    {
     "data": {
      "text/plain": [
       "-1.4781866068172025"
      ]
     },
     "execution_count": 4,
     "metadata": {},
     "output_type": "execute_result"
    }
   ],
   "source": [
    "n = c.size\n",
    "x = cp.Variable(n)\n",
    "objective = cp.Minimize(c.T@x)\n",
    "constraint = [ A@x <= b]\n",
    "prob = cp.Problem(objective, constraint)\n",
    "prob.solve(solver=cp.MOSEK, verbose=True)"
   ]
  },
  {
   "cell_type": "markdown",
   "id": "8bd1e227",
   "metadata": {},
   "source": [
    "Print results"
   ]
  },
  {
   "cell_type": "code",
   "execution_count": 5,
   "id": "adf7342e",
   "metadata": {},
   "outputs": [
    {
     "name": "stdout",
     "output_type": "stream",
     "text": [
      "\n",
      "The optimal value is -1.4781866068172025\n",
      "Solution x is\n",
      " [-1.07296778  0.8654096 ]\n"
     ]
    }
   ],
   "source": [
    "print(\"\\nThe optimal value is\", prob.value)\n",
    "print(\"Solution x is\\n\", x.value)"
   ]
  },
  {
   "cell_type": "code",
   "execution_count": null,
   "id": "d839eeaa",
   "metadata": {},
   "outputs": [],
   "source": []
  }
 ],
 "metadata": {
  "kernelspec": {
   "display_name": "Python 3 (ipykernel)",
   "language": "python",
   "name": "python3"
  },
  "language_info": {
   "codemirror_mode": {
    "name": "ipython",
    "version": 3
   },
   "file_extension": ".py",
   "mimetype": "text/x-python",
   "name": "python",
   "nbconvert_exporter": "python",
   "pygments_lexer": "ipython3",
   "version": "3.11.0"
  }
 },
 "nbformat": 4,
 "nbformat_minor": 5
}
