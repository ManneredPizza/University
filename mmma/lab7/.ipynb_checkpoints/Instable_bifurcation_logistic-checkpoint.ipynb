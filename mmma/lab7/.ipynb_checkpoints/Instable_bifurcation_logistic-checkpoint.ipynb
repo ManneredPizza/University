{
 "cells": [
  {
   "cell_type": "code",
   "execution_count": 1,
   "id": "e1bdcd01",
   "metadata": {},
   "outputs": [],
   "source": [
    "import math\n",
    "import numpy as np\n",
    "import matplotlib.pyplot as plt"
   ]
  },
  {
   "cell_type": "code",
   "execution_count": 81,
   "id": "98635bb9",
   "metadata": {},
   "outputs": [],
   "source": [
    "def f(l,x,n):\n",
    "    if n==1:\n",
    "        return l*x*(1-x)\n",
    "    elif n==0:\n",
    "        return x\n",
    "    else:\n",
    "        return f(l,l*x*(1-x),n-1)\n",
    "\n",
    "def fder1(l,x):\n",
    "    return l*(1-2*x)\n",
    "    \n",
    "def fder(l,x,n):\n",
    "    result = 1\n",
    "    for i in range(n):\n",
    "        result *= fder1(l,f(l,x,i))\n",
    "    return result\n",
    "    \n",
    "def fzer(l,x,n):\n",
    "    return f(l,x,n)-x\n",
    "    \n",
    "def fzerder(l,x,n):\n",
    "    return fder(l,x,n)-1"
   ]
  },
  {
   "cell_type": "code",
   "execution_count": 117,
   "id": "a4a3815f",
   "metadata": {},
   "outputs": [],
   "source": [
    "def newton(g,gder,x0,l,n):\n",
    "    #da ottimizzare\n",
    "    i=0\n",
    "    try:\n",
    "        while abs(g(l,x0,n)) > 1e-6 and i<=1000:\n",
    "            xn = x0 - (g(l,x0,n)/gder(l,x0,n))\n",
    "            x0 = xn\n",
    "            i+=1\n",
    "        if(i>1000):\n",
    "            return 'err'\n",
    "        return x0\n",
    "    except:\n",
    "        return 'err'"
   ]
  },
  {
   "cell_type": "code",
   "execution_count": 83,
   "id": "a4266b9a",
   "metadata": {},
   "outputs": [],
   "source": [
    "N = 1000\n",
    "#N = int(input(\"Numero lambda [1000]: \"))\n",
    "lmax = 4\n",
    "ls = np.linspace(0,lmax,N)\n",
    "x0 = 0.1"
   ]
  },
  {
   "cell_type": "code",
   "execution_count": 84,
   "id": "c669bbda",
   "metadata": {},
   "outputs": [],
   "source": [
    "def delete_duplicates(vect,margin):\n",
    "    result = [vect[0]]\n",
    "    #O(n^2) -> da sistemare assolutamente\n",
    "    for v in vect:\n",
    "        accept = 1\n",
    "        for r in result:\n",
    "            if abs(v-r) < margin:\n",
    "                accept = 0\n",
    "        if accept == 1:\n",
    "            result.append(v)\n",
    "    return result"
   ]
  },
  {
   "cell_type": "code",
   "execution_count": 161,
   "id": "5b56d5bf",
   "metadata": {},
   "outputs": [],
   "source": [
    "def change_situation(l,n,start):\n",
    "    for i in range(10):\n",
    "        l = l+lmax/N\n",
    "        zer = []\n",
    "        for s in start:\n",
    "            zer.append(newton(fzer,fzerder,s,l,n))\n",
    "            if(zer[-1] == 'err'):\n",
    "                zer.pop(-1)\n",
    "        zer = delete_duplicates(list(set(zer)),1e-3)\n",
    "        for y in zer:\n",
    "            #print(\"n={0} x={1} fnder(x)={2}\".format(n,y,fder(l,y,n)))\n",
    "            if(abs(fder(l,y,n))<1):\n",
    "                return 0\n",
    "        start = zer\n",
    "    return 1"
   ]
  },
  {
   "cell_type": "code",
   "execution_count": 165,
   "id": "1f4468f9",
   "metadata": {
    "scrolled": false
   },
   "outputs": [
    {
     "name": "stdout",
     "output_type": "stream",
     "text": [
      "2\n",
      "4\n",
      "8\n",
      "16\n",
      "32\n"
     ]
    },
    {
     "name": "stderr",
     "output_type": "stream",
     "text": [
      "/var/folders/_c/53p2ylxx1kvdwvv_9gnhx2c40000gn/T/ipykernel_25565/3731332170.py:3: RuntimeWarning: overflow encountered in double_scalars\n",
      "  return l*x*(1-x)\n",
      "/var/folders/_c/53p2ylxx1kvdwvv_9gnhx2c40000gn/T/ipykernel_25565/3731332170.py:15: RuntimeWarning: overflow encountered in double_scalars\n",
      "  result *= fder1(l,f(l,x,i))\n",
      "/var/folders/_c/53p2ylxx1kvdwvv_9gnhx2c40000gn/T/ipykernel_25565/156752926.py:6: RuntimeWarning: invalid value encountered in double_scalars\n",
      "  xn = x0 - (g(l,x0,n)/gder(l,x0,n))\n",
      "/var/folders/_c/53p2ylxx1kvdwvv_9gnhx2c40000gn/T/ipykernel_25565/3731332170.py:7: RuntimeWarning: overflow encountered in double_scalars\n",
      "  return f(l,l*x*(1-x),n-1)\n"
     ]
    },
    {
     "data": {
      "image/png": "[encoded data removed]",
      "text/plain": [
       "<Figure size 1152x576 with 1 Axes>"
      ]
     },
     "metadata": {
      "needs_background": "light"
     },
     "output_type": "display_data"
    }
   ],
   "source": [
    "#SENZA HINT\n",
    "fig = plt.figure(figsize=(16,8))\n",
    "ax = fig.add_subplot(111)\n",
    "n = 1\n",
    "exzeros = [0]\n",
    "for l in ls:\n",
    "    zer = []\n",
    "    for start in exzeros:\n",
    "        #print(\"Newton\")\n",
    "        zer.append(newton(fzer,fzerder,start,l,n))\n",
    "        #print(zer[-1])\n",
    "        if(zer[-1] == 'err'):\n",
    "            zer.pop(-1)\n",
    "    #print(str(n) + \" fuori da Newton\")\n",
    "    #list-set non mi cancella i numeri molto vicini, capire come cancellare duplicati vicini in modo ottimale\n",
    "    zer = delete_duplicates(list(set(zer)),1e-3)\n",
    "\n",
    "    count_stab = 0\n",
    "\n",
    "    temp = 1\n",
    "    #print(\"rientro\")\n",
    "    for y in zer:\n",
    "        if (l>1 and abs(y) > 1e-6) or l<=(1+lmax/N):\n",
    "            #print(\"#{3} Test derivata con l={0} e x={1} e n={2} con lunghezza zer={4}\".format(l,y,n,temp,len(zer)))\n",
    "            temp+=1\n",
    "            if(abs(fder(l,y,n)) < 1):\n",
    "                count_stab += 1\n",
    "                ax.plot([l], [y], marker=\".\", color='k', markersize=1)\n",
    "            else:\n",
    "                ax.plot([l], [y], marker=\".\", color='r', markersize=1)\n",
    "    exzeros = []\n",
    "    if (count_stab == 0 and l>(1+lmax/N)):\n",
    "    #nei pressi di una biforcazione errore numerico pensa che non ci siano stabili e raddoppia n, poi per il\n",
    "    #successivo fa lo stesso e va avanti così finché non esplode\n",
    "    #change_situation vede se l'insabilità c'è per i prossimi 10 punti\n",
    "        if(change_situation(l,n,zer)):\n",
    "            #print(zer)\n",
    "            for z in zer:\n",
    "                #vorrei fare 0.5,0.05,0.005\n",
    "                k=5/10**math.log(n,2)\n",
    "                exzeros.append(max([min([z+k,1]),0]))\n",
    "                exzeros.append(max([min([z-k,1]),0]))\n",
    "            n = 2*n\n",
    "            print(n)\n",
    "    exzeros.extend(zer)\n",
    "    #filtered = []\n",
    "    #filtered = [ele for ele in exzeros if ele >= 0 and ele <=1]\n",
    "    #exzeros = filtered\n",
    "    if n==32:\n",
    "        break"
   ]
  },
  {
   "cell_type": "code",
   "execution_count": 164,
   "id": "5fbacdef",
   "metadata": {},
   "outputs": [
    {
     "data": {
      "image/png": "[encoded data removed]",
      "text/plain": [
       "<Figure size 1152x576 with 1 Axes>"
      ]
     },
     "metadata": {
      "needs_background": "light"
     },
     "output_type": "display_data"
    }
   ],
   "source": [
    "#CON HINT\n",
    "fig = plt.figure(figsize=(16,8))\n",
    "ax = fig.add_subplot(111)\n",
    "n = 1\n",
    "exzeros = 0\n",
    "instables = []\n",
    "for l in ls:    \n",
    "    zer = []\n",
    "    zer.append(newton(fzer,fzerder,exzeros,l,n))\n",
    "    if(zer[-1] == 'err'):\n",
    "            print(l)\n",
    "            print(exzeros)\n",
    "            zer.pop(-1)\n",
    "    if n>2:\n",
    "        #do n/2 colpi di dinamica per coprire l'orbita periodica\n",
    "        #idea molto interessante essendo sensibilmente più veloce della mia precedente\n",
    "        for i in range(int(n/2)):\n",
    "            zer.append(f(l,zer[-1],1))\n",
    "            \n",
    "    #zeri degli instabili\n",
    "    if(len(instables) > 0):\n",
    "        new_instables = []\n",
    "        for inst in instables:\n",
    "            new_inst = newton(fzer,fzerder,inst,l,n)\n",
    "            new_instables.append(new_inst)\n",
    "        instables=[]\n",
    "        instables.extend(new_instables)\n",
    "            \n",
    "    \n",
    "    zer = delete_duplicates(list(set(zer)),1e-3)\n",
    "    count_stab = 0\n",
    "\n",
    "    for y in zer:\n",
    "        if (l>1 and abs(y) > 1e-6) or l<=(1+lmax/N):\n",
    "            if(abs(fder(l,y,n)) < 1):\n",
    "                count_stab += 1\n",
    "                ax.plot([l], [y], marker=\".\", color='k', markersize=1)\n",
    "            else:\n",
    "                ax.plot([l], [y], marker=\".\", color='r', markersize=1)\n",
    "                \n",
    "    for inst in instables:\n",
    "        if inst > 1e-3:\n",
    "            ax.plot([l], [inst], marker=\".\", color='r', markersize=1)\n",
    "    if (count_stab == 0 and l>(1+lmax/N) and change_situation(l,n,zer)):\n",
    "        instables.extend(zer)\n",
    "        exzeros=0.9\n",
    "        n = 2*n\n",
    "    else:\n",
    "        exzeros=zer[-1]\n",
    "        \n",
    "    \n",
    "    if n==32:\n",
    "        break"
   ]
  },
  {
   "cell_type": "code",
   "execution_count": null,
   "id": "d47daf0a",
   "metadata": {},
   "outputs": [],
   "source": []
  }
 ],
 "metadata": {
  "kernelspec": {
   "display_name": "Python 3 (ipykernel)",
   "language": "python",
   "name": "python3"
  },
  "language_info": {
   "codemirror_mode": {
    "name": "ipython",
    "version": 3
   },
   "file_extension": ".py",
   "mimetype": "text/x-python",
   "name": "python",
   "nbconvert_exporter": "python",
   "pygments_lexer": "ipython3",
   "version": "3.8.10"
  }
 },
 "nbformat": 4,
 "nbformat_minor": 5
}
