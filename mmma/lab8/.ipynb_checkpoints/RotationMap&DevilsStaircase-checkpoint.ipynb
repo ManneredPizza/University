{
 "cells": [
  {
   "cell_type": "code",
   "execution_count": 64,
   "id": "f808aca0",
   "metadata": {},
   "outputs": [],
   "source": [
    "import math\n",
    "import matplotlib.pyplot as plt\n",
    "import numpy as np\n",
    "from matplotlib import cm\n",
    "\n",
    "plt.rcParams['text.usetex'] = True"
   ]
  },
  {
   "cell_type": "code",
   "execution_count": 65,
   "id": "cc8185fd",
   "metadata": {},
   "outputs": [],
   "source": [
    "def f(theta, Omega, epsilon):\n",
    "    return (theta+Omega+np.dot(epsilon,np.sin(theta)))%(2*math.pi)\n",
    "def F(theta, Omega, epsilon, N):\n",
    "    if N==1:\n",
    "        return theta+Omega+np.dot(epsilon,np.sin(theta))\n",
    "    else:\n",
    "        return F(theta+Omega+np.dot(epsilon,np.sin(theta)), Omega, epsilon, N-1)"
   ]
  },
  {
   "cell_type": "code",
   "execution_count": 66,
   "id": "2bcd1a9a",
   "metadata": {},
   "outputs": [],
   "source": [
    "Om = np.linspace(0,1,500)\n",
    "th = np.linspace(0,1,500)"
   ]
  },
  {
   "cell_type": "code",
   "execution_count": 67,
   "id": "7281eaa2",
   "metadata": {
    "scrolled": true
   },
   "outputs": [
    {
     "data": {
      "image/png": "[encoded data removed]",
      "text/plain": [
       "<Figure size 432x288 with 1 Axes>"
      ]
     },
     "metadata": {
      "needs_background": "light"
     },
     "output_type": "display_data"
    }
   ],
   "source": [
    "plt.scatter(th,f(np.dot(2*math.pi,th),0.1*2*math.pi,0)/(2*math.pi),1.2)\n",
    "plt.xlabel(r'$\\theta$')\n",
    "plt.ylabel(r'$f(\\theta)$')\n",
    "plt.show()"
   ]
  },
  {
   "cell_type": "code",
   "execution_count": 68,
   "id": "a67ef7c6",
   "metadata": {},
   "outputs": [
    {
     "data": {
      "image/png": "[encoded data removed]",
      "text/plain": [
       "<Figure size 432x288 with 1 Axes>"
      ]
     },
     "metadata": {
      "needs_background": "light"
     },
     "output_type": "display_data"
    }
   ],
   "source": [
    "#w = lim n->+inf (F^n(th)-th)/n\n",
    "N=1000\n",
    "t = 2*math.pi*0.8\n",
    "eps = 0\n",
    "plt.scatter(Om,(F(t,np.dot(Om,2*math.pi),eps,N)-t)/(2*math.pi*N),1.2)\n",
    "plt.xlabel(r'$\\Omega$')\n",
    "plt.ylabel(r'$\\omega$')\n",
    "plt.show()"
   ]
  },
  {
   "cell_type": "code",
   "execution_count": 69,
   "id": "f7ed1ad9",
   "metadata": {},
   "outputs": [
    {
     "data": {
      "image/png": "[encoded data removed]",
      "text/plain": [
       "<Figure size 432x288 with 1 Axes>"
      ]
     },
     "metadata": {
      "needs_background": "light"
     },
     "output_type": "display_data"
    }
   ],
   "source": [
    "plt.scatter(th,f(np.dot(2*math.pi,th),0.1*2*math.pi,0.5)/(2*math.pi),1.2)\n",
    "plt.xlabel(r'$\\theta$')\n",
    "plt.ylabel(r'$f(\\theta)$')\n",
    "plt.show()"
   ]
  },
  {
   "cell_type": "code",
   "execution_count": 70,
   "id": "007abada",
   "metadata": {},
   "outputs": [
    {
     "data": {
      "image/png": "[encoded data removed]",
      "text/plain": [
       "<Figure size 432x288 with 1 Axes>"
      ]
     },
     "metadata": {
      "needs_background": "light"
     },
     "output_type": "display_data"
    }
   ],
   "source": [
    "#w = lim n->+inf (F^n(th)-th)/n\n",
    "N=1000\n",
    "t = 2*math.pi*0.8\n",
    "eps = 0.5\n",
    "plt.scatter(Om,(F(t,np.dot(Om,2*math.pi),eps,N)-t)/(2*math.pi*N),.5)\n",
    "plt.xlabel(r'$\\Omega$')\n",
    "plt.ylabel(r'$\\omega$')\n",
    "plt.show()"
   ]
  },
  {
   "cell_type": "code",
   "execution_count": null,
   "id": "61468039",
   "metadata": {},
   "outputs": [
    {
     "name": "stderr",
     "output_type": "stream",
     "text": [
      "ERROR:root:Internal Python error in the inspect module.\n",
      "Below is the traceback from this internal error.\n",
      "\n",
      "ERROR:root:Internal Python error in the inspect module.\n",
      "Below is the traceback from this internal error.\n",
      "\n"
     ]
    },
    {
     "name": "stdout",
     "output_type": "stream",
     "text": [
      "Traceback (most recent call last):\n",
      "  File \"/Users/jacopoperoni/.pyenv/versions/3.8.10/lib/python3.8/site-packages/IPython/core/interactiveshell.py\", line 3441, in run_code\n",
      "    exec(code_obj, self.user_global_ns, self.user_ns)\n",
      "  File \"/var/folders/_c/53p2ylxx1kvdwvv_9gnhx2c40000gn/T/ipykernel_31619/1604653826.py\", line 10, in <module>\n",
      "    omega.append((F(t,Om,eps,N)-t)/(2*math.pi*N))\n",
      "  File \"/var/folders/_c/53p2ylxx1kvdwvv_9gnhx2c40000gn/T/ipykernel_31619/2372989977.py\", line 7, in F\n",
      "    return F(theta+Omega+np.dot(epsilon,np.sin(theta)), Omega, epsilon, N-1)\n",
      "  File \"/var/folders/_c/53p2ylxx1kvdwvv_9gnhx2c40000gn/T/ipykernel_31619/2372989977.py\", line 7, in F\n",
      "    return F(theta+Omega+np.dot(epsilon,np.sin(theta)), Omega, epsilon, N-1)\n",
      "  File \"/var/folders/_c/53p2ylxx1kvdwvv_9gnhx2c40000gn/T/ipykernel_31619/2372989977.py\", line 7, in F\n",
      "    return F(theta+Omega+np.dot(epsilon,np.sin(theta)), Omega, epsilon, N-1)\n",
      "  [Previous line repeated 494 more times]\n",
      "KeyboardInterrupt\n",
      "\n",
      "During handling of the above exception, another exception occurred:\n",
      "\n",
      "Traceback (most recent call last):\n",
      "  File \"/Users/jacopoperoni/.pyenv/versions/3.8.10/lib/python3.8/site-packages/IPython/core/interactiveshell.py\", line 2061, in showtraceback\n",
      "    stb = value._render_traceback_()\n",
      "AttributeError: 'KeyboardInterrupt' object has no attribute '_render_traceback_'\n",
      "\n",
      "During handling of the above exception, another exception occurred:\n",
      "\n",
      "Traceback (most recent call last):\n",
      "  File \"/Users/jacopoperoni/.pyenv/versions/3.8.10/lib/python3.8/site-packages/IPython/core/ultratb.py\", line 1101, in get_records\n",
      "    return _fixed_getinnerframes(etb, number_of_lines_of_context, tb_offset)\n",
      "  File \"/Users/jacopoperoni/.pyenv/versions/3.8.10/lib/python3.8/site-packages/IPython/core/ultratb.py\", line 248, in wrapped\n",
      "    return f(*args, **kwargs)\n",
      "  File \"/Users/jacopoperoni/.pyenv/versions/3.8.10/lib/python3.8/site-packages/IPython/core/ultratb.py\", line 281, in _fixed_getinnerframes\n",
      "    records = fix_frame_records_filenames(inspect.getinnerframes(etb, context))\n",
      "  File \"/Users/jacopoperoni/.pyenv/versions/3.8.10/lib/python3.8/inspect.py\", line 1515, in getinnerframes\n",
      "    frameinfo = (tb.tb_frame,) + getframeinfo(tb, context)\n",
      "  File \"/Users/jacopoperoni/.pyenv/versions/3.8.10/lib/python3.8/inspect.py\", line 1473, in getframeinfo\n",
      "    filename = getsourcefile(frame) or getfile(frame)\n",
      "  File \"/Users/jacopoperoni/.pyenv/versions/3.8.10/lib/python3.8/inspect.py\", line 708, in getsourcefile\n",
      "    if getattr(getmodule(object, filename), '__loader__', None) is not None:\n",
      "  File \"/Users/jacopoperoni/.pyenv/versions/3.8.10/lib/python3.8/inspect.py\", line 745, in getmodule\n",
      "    if ismodule(module) and hasattr(module, '__file__'):\n",
      "KeyboardInterrupt\n",
      "Traceback (most recent call last):\n",
      "  File \"/Users/jacopoperoni/.pyenv/versions/3.8.10/lib/python3.8/site-packages/IPython/core/interactiveshell.py\", line 3441, in run_code\n",
      "    exec(code_obj, self.user_global_ns, self.user_ns)\n",
      "  File \"/var/folders/_c/53p2ylxx1kvdwvv_9gnhx2c40000gn/T/ipykernel_31619/1604653826.py\", line 10, in <module>\n",
      "    omega.append((F(t,Om,eps,N)-t)/(2*math.pi*N))\n",
      "  File \"/var/folders/_c/53p2ylxx1kvdwvv_9gnhx2c40000gn/T/ipykernel_31619/2372989977.py\", line 7, in F\n",
      "    return F(theta+Omega+np.dot(epsilon,np.sin(theta)), Omega, epsilon, N-1)\n",
      "  File \"/var/folders/_c/53p2ylxx1kvdwvv_9gnhx2c40000gn/T/ipykernel_31619/2372989977.py\", line 7, in F\n",
      "    return F(theta+Omega+np.dot(epsilon,np.sin(theta)), Omega, epsilon, N-1)\n",
      "  File \"/var/folders/_c/53p2ylxx1kvdwvv_9gnhx2c40000gn/T/ipykernel_31619/2372989977.py\", line 7, in F\n",
      "    return F(theta+Omega+np.dot(epsilon,np.sin(theta)), Omega, epsilon, N-1)\n",
      "  [Previous line repeated 494 more times]\n",
      "KeyboardInterrupt\n",
      "\n",
      "During handling of the above exception, another exception occurred:\n",
      "\n",
      "Traceback (most recent call last):\n",
      "  File \"/Users/jacopoperoni/.pyenv/versions/3.8.10/lib/python3.8/site-packages/IPython/core/interactiveshell.py\", line 2061, in showtraceback\n",
      "    stb = value._render_traceback_()\n",
      "AttributeError: 'KeyboardInterrupt' object has no attribute '_render_traceback_'\n",
      "\n",
      "During handling of the above exception, another exception occurred:\n",
      "\n",
      "Traceback (most recent call last):\n",
      "  File \"/Users/jacopoperoni/.pyenv/versions/3.8.10/lib/python3.8/site-packages/IPython/core/interactiveshell.py\", line 3361, in run_ast_nodes\n",
      "    if (await self.run_code(code, result,  async_=asy)):\n",
      "  File \"/Users/jacopoperoni/.pyenv/versions/3.8.10/lib/python3.8/site-packages/IPython/core/interactiveshell.py\", line 3458, in run_code\n",
      "    self.showtraceback(running_compiled_code=True)\n",
      "  File \"/Users/jacopoperoni/.pyenv/versions/3.8.10/lib/python3.8/site-packages/IPython/core/interactiveshell.py\", line 2063, in showtraceback\n",
      "    stb = self.InteractiveTB.structured_traceback(etype,\n",
      "  File \"/Users/jacopoperoni/.pyenv/versions/3.8.10/lib/python3.8/site-packages/IPython/core/ultratb.py\", line 1367, in structured_traceback\n",
      "    return FormattedTB.structured_traceback(\n",
      "  File \"/Users/jacopoperoni/.pyenv/versions/3.8.10/lib/python3.8/site-packages/IPython/core/ultratb.py\", line 1267, in structured_traceback\n",
      "    return VerboseTB.structured_traceback(\n",
      "  File \"/Users/jacopoperoni/.pyenv/versions/3.8.10/lib/python3.8/site-packages/IPython/core/ultratb.py\", line 1124, in structured_traceback\n",
      "    formatted_exception = self.format_exception_as_a_whole(etype, evalue, etb, number_of_lines_of_context,\n",
      "  File \"/Users/jacopoperoni/.pyenv/versions/3.8.10/lib/python3.8/site-packages/IPython/core/ultratb.py\", line 1082, in format_exception_as_a_whole\n",
      "    last_unique, recursion_repeat = find_recursion(orig_etype, evalue, records)\n",
      "  File \"/Users/jacopoperoni/.pyenv/versions/3.8.10/lib/python3.8/site-packages/IPython/core/ultratb.py\", line 382, in find_recursion\n",
      "    return len(records), 0\n",
      "TypeError: object of type 'NoneType' has no len()\n",
      "\n",
      "During handling of the above exception, another exception occurred:\n",
      "\n",
      "Traceback (most recent call last):\n",
      "  File \"/Users/jacopoperoni/.pyenv/versions/3.8.10/lib/python3.8/site-packages/IPython/core/interactiveshell.py\", line 2061, in showtraceback\n",
      "    stb = value._render_traceback_()\n",
      "AttributeError: 'TypeError' object has no attribute '_render_traceback_'\n",
      "\n",
      "During handling of the above exception, another exception occurred:\n",
      "\n",
      "Traceback (most recent call last):\n",
      "  File \"/Users/jacopoperoni/.pyenv/versions/3.8.10/lib/python3.8/site-packages/IPython/core/ultratb.py\", line 1101, in get_records\n",
      "    return _fixed_getinnerframes(etb, number_of_lines_of_context, tb_offset)\n",
      "  File \"/Users/jacopoperoni/.pyenv/versions/3.8.10/lib/python3.8/site-packages/IPython/core/ultratb.py\", line 248, in wrapped\n",
      "    return f(*args, **kwargs)\n",
      "  File \"/Users/jacopoperoni/.pyenv/versions/3.8.10/lib/python3.8/site-packages/IPython/core/ultratb.py\", line 281, in _fixed_getinnerframes\n",
      "    records = fix_frame_records_filenames(inspect.getinnerframes(etb, context))\n",
      "  File \"/Users/jacopoperoni/.pyenv/versions/3.8.10/lib/python3.8/inspect.py\", line 1515, in getinnerframes\n",
      "    frameinfo = (tb.tb_frame,) + getframeinfo(tb, context)\n",
      "  File \"/Users/jacopoperoni/.pyenv/versions/3.8.10/lib/python3.8/inspect.py\", line 1473, in getframeinfo\n",
      "    filename = getsourcefile(frame) or getfile(frame)\n",
      "  File \"/Users/jacopoperoni/.pyenv/versions/3.8.10/lib/python3.8/inspect.py\", line 708, in getsourcefile\n",
      "    if getattr(getmodule(object, filename), '__loader__', None) is not None:\n",
      "  File \"/Users/jacopoperoni/.pyenv/versions/3.8.10/lib/python3.8/inspect.py\", line 745, in getmodule\n",
      "    if ismodule(module) and hasattr(module, '__file__'):\n",
      "KeyboardInterrupt\n"
     ]
    },
    {
     "name": "stderr",
     "output_type": "stream",
     "text": [
      "ERROR:root:Internal Python error in the inspect module.\n",
      "Below is the traceback from this internal error.\n",
      "\n"
     ]
    },
    {
     "name": "stdout",
     "output_type": "stream",
     "text": [
      "Traceback (most recent call last):\n",
      "  File \"/Users/jacopoperoni/.pyenv/versions/3.8.10/lib/python3.8/site-packages/IPython/core/interactiveshell.py\", line 3441, in run_code\n",
      "    exec(code_obj, self.user_global_ns, self.user_ns)\n",
      "  File \"/var/folders/_c/53p2ylxx1kvdwvv_9gnhx2c40000gn/T/ipykernel_31619/1604653826.py\", line 10, in <module>\n",
      "    omega.append((F(t,Om,eps,N)-t)/(2*math.pi*N))\n",
      "  File \"/var/folders/_c/53p2ylxx1kvdwvv_9gnhx2c40000gn/T/ipykernel_31619/2372989977.py\", line 7, in F\n",
      "    return F(theta+Omega+np.dot(epsilon,np.sin(theta)), Omega, epsilon, N-1)\n",
      "  File \"/var/folders/_c/53p2ylxx1kvdwvv_9gnhx2c40000gn/T/ipykernel_31619/2372989977.py\", line 7, in F\n",
      "    return F(theta+Omega+np.dot(epsilon,np.sin(theta)), Omega, epsilon, N-1)\n",
      "  File \"/var/folders/_c/53p2ylxx1kvdwvv_9gnhx2c40000gn/T/ipykernel_31619/2372989977.py\", line 7, in F\n",
      "    return F(theta+Omega+np.dot(epsilon,np.sin(theta)), Omega, epsilon, N-1)\n",
      "  [Previous line repeated 494 more times]\n",
      "KeyboardInterrupt\n",
      "\n",
      "During handling of the above exception, another exception occurred:\n",
      "\n",
      "Traceback (most recent call last):\n",
      "  File \"/Users/jacopoperoni/.pyenv/versions/3.8.10/lib/python3.8/site-packages/IPython/core/interactiveshell.py\", line 2061, in showtraceback\n",
      "    stb = value._render_traceback_()\n",
      "AttributeError: 'KeyboardInterrupt' object has no attribute '_render_traceback_'\n",
      "\n",
      "During handling of the above exception, another exception occurred:\n",
      "\n",
      "Traceback (most recent call last):\n",
      "  File \"/Users/jacopoperoni/.pyenv/versions/3.8.10/lib/python3.8/site-packages/IPython/core/interactiveshell.py\", line 3361, in run_ast_nodes\n",
      "    if (await self.run_code(code, result,  async_=asy)):\n",
      "  File \"/Users/jacopoperoni/.pyenv/versions/3.8.10/lib/python3.8/site-packages/IPython/core/interactiveshell.py\", line 3458, in run_code\n",
      "    self.showtraceback(running_compiled_code=True)\n",
      "  File \"/Users/jacopoperoni/.pyenv/versions/3.8.10/lib/python3.8/site-packages/IPython/core/interactiveshell.py\", line 2063, in showtraceback\n",
      "    stb = self.InteractiveTB.structured_traceback(etype,\n",
      "  File \"/Users/jacopoperoni/.pyenv/versions/3.8.10/lib/python3.8/site-packages/IPython/core/ultratb.py\", line 1367, in structured_traceback\n",
      "    return FormattedTB.structured_traceback(\n",
      "  File \"/Users/jacopoperoni/.pyenv/versions/3.8.10/lib/python3.8/site-packages/IPython/core/ultratb.py\", line 1267, in structured_traceback\n",
      "    return VerboseTB.structured_traceback(\n",
      "  File \"/Users/jacopoperoni/.pyenv/versions/3.8.10/lib/python3.8/site-packages/IPython/core/ultratb.py\", line 1124, in structured_traceback\n",
      "    formatted_exception = self.format_exception_as_a_whole(etype, evalue, etb, number_of_lines_of_context,\n",
      "  File \"/Users/jacopoperoni/.pyenv/versions/3.8.10/lib/python3.8/site-packages/IPython/core/ultratb.py\", line 1082, in format_exception_as_a_whole\n",
      "    last_unique, recursion_repeat = find_recursion(orig_etype, evalue, records)\n",
      "  File \"/Users/jacopoperoni/.pyenv/versions/3.8.10/lib/python3.8/site-packages/IPython/core/ultratb.py\", line 382, in find_recursion\n",
      "    return len(records), 0\n",
      "TypeError: object of type 'NoneType' has no len()\n",
      "\n",
      "During handling of the above exception, another exception occurred:\n",
      "\n",
      "Traceback (most recent call last):\n",
      "  File \"/Users/jacopoperoni/.pyenv/versions/3.8.10/lib/python3.8/site-packages/IPython/core/interactiveshell.py\", line 2061, in showtraceback\n",
      "    stb = value._render_traceback_()\n",
      "AttributeError: 'TypeError' object has no attribute '_render_traceback_'\n",
      "\n",
      "During handling of the above exception, another exception occurred:\n",
      "\n",
      "Traceback (most recent call last):\n",
      "  File \"/Users/jacopoperoni/.pyenv/versions/3.8.10/lib/python3.8/site-packages/IPython/core/interactiveshell.py\", line 2944, in _run_cell\n",
      "    return runner(coro)\n",
      "  File \"/Users/jacopoperoni/.pyenv/versions/3.8.10/lib/python3.8/site-packages/IPython/core/async_helpers.py\", line 68, in _pseudo_sync_runner\n",
      "    coro.send(None)\n",
      "  File \"/Users/jacopoperoni/.pyenv/versions/3.8.10/lib/python3.8/site-packages/IPython/core/interactiveshell.py\", line 3169, in run_cell_async\n",
      "    has_raised = await self.run_ast_nodes(code_ast.body, cell_name,\n",
      "  File \"/Users/jacopoperoni/.pyenv/versions/3.8.10/lib/python3.8/site-packages/IPython/core/interactiveshell.py\", line 3380, in run_ast_nodes\n",
      "    self.showtraceback()\n",
      "  File \"/Users/jacopoperoni/.pyenv/versions/3.8.10/lib/python3.8/site-packages/IPython/core/interactiveshell.py\", line 2063, in showtraceback\n",
      "    stb = self.InteractiveTB.structured_traceback(etype,\n",
      "  File \"/Users/jacopoperoni/.pyenv/versions/3.8.10/lib/python3.8/site-packages/IPython/core/ultratb.py\", line 1367, in structured_traceback\n",
      "    return FormattedTB.structured_traceback(\n",
      "  File \"/Users/jacopoperoni/.pyenv/versions/3.8.10/lib/python3.8/site-packages/IPython/core/ultratb.py\", line 1267, in structured_traceback\n",
      "    return VerboseTB.structured_traceback(\n",
      "  File \"/Users/jacopoperoni/.pyenv/versions/3.8.10/lib/python3.8/site-packages/IPython/core/ultratb.py\", line 1142, in structured_traceback\n",
      "    formatted_exceptions += self.format_exception_as_a_whole(etype, evalue, etb, lines_of_context,\n",
      "  File \"/Users/jacopoperoni/.pyenv/versions/3.8.10/lib/python3.8/site-packages/IPython/core/ultratb.py\", line 1082, in format_exception_as_a_whole\n",
      "    last_unique, recursion_repeat = find_recursion(orig_etype, evalue, records)\n",
      "  File \"/Users/jacopoperoni/.pyenv/versions/3.8.10/lib/python3.8/site-packages/IPython/core/ultratb.py\", line 382, in find_recursion\n",
      "    return len(records), 0\n",
      "TypeError: object of type 'NoneType' has no len()\n",
      "\n",
      "During handling of the above exception, another exception occurred:\n",
      "\n",
      "Traceback (most recent call last):\n",
      "  File \"/Users/jacopoperoni/.pyenv/versions/3.8.10/lib/python3.8/site-packages/IPython/core/interactiveshell.py\", line 2061, in showtraceback\n",
      "    stb = value._render_traceback_()\n",
      "AttributeError: 'TypeError' object has no attribute '_render_traceback_'\n",
      "\n",
      "During handling of the above exception, another exception occurred:\n",
      "\n",
      "Traceback (most recent call last):\n",
      "  File \"/Users/jacopoperoni/.pyenv/versions/3.8.10/lib/python3.8/site-packages/IPython/core/ultratb.py\", line 1101, in get_records\n",
      "    return _fixed_getinnerframes(etb, number_of_lines_of_context, tb_offset)\n",
      "  File \"/Users/jacopoperoni/.pyenv/versions/3.8.10/lib/python3.8/site-packages/IPython/core/ultratb.py\", line 248, in wrapped\n",
      "    return f(*args, **kwargs)\n",
      "  File \"/Users/jacopoperoni/.pyenv/versions/3.8.10/lib/python3.8/site-packages/IPython/core/ultratb.py\", line 281, in _fixed_getinnerframes\n",
      "    records = fix_frame_records_filenames(inspect.getinnerframes(etb, context))\n",
      "  File \"/Users/jacopoperoni/.pyenv/versions/3.8.10/lib/python3.8/inspect.py\", line 1515, in getinnerframes\n",
      "    frameinfo = (tb.tb_frame,) + getframeinfo(tb, context)\n",
      "  File \"/Users/jacopoperoni/.pyenv/versions/3.8.10/lib/python3.8/inspect.py\", line 1473, in getframeinfo\n",
      "    filename = getsourcefile(frame) or getfile(frame)\n",
      "  File \"/Users/jacopoperoni/.pyenv/versions/3.8.10/lib/python3.8/inspect.py\", line 708, in getsourcefile\n",
      "    if getattr(getmodule(object, filename), '__loader__', None) is not None:\n",
      "  File \"/Users/jacopoperoni/.pyenv/versions/3.8.10/lib/python3.8/inspect.py\", line 747, in getmodule\n",
      "    if f == _filesbymodname.get(modname, None):\n",
      "KeyboardInterrupt\n"
     ]
    },
    {
     "data": {
      "image/png": "[encoded data removed]",
      "text/plain": [
       "<Figure size 432x288 with 1 Axes>"
      ]
     },
     "metadata": {
      "needs_background": "light"
     },
     "output_type": "display_data"
    }
   ],
   "source": [
    "#metodo poco python\n",
    "epsy = np.linspace(0,1,1000)\n",
    "Omx = np.dot(Om,2*math.pi)\n",
    "omega = []\n",
    "\n",
    "fig, ax = plt.subplots(subplot_kw={\"projection\": \"3d\"})\n",
    "\n",
    "for Om in Omx:\n",
    "    for eps in epsy:\n",
    "        omega.append((F(t,Om,eps,N)-t)/(2*math.pi*N))\n",
    "\n",
    "ax.plot_surface(Omx, epsy, omega, cmap=cm.coolwarm, linewidth=0, antialiased=False)"
   ]
  },
  {
   "cell_type": "code",
   "execution_count": null,
   "id": "1ef51d5a",
   "metadata": {},
   "outputs": [],
   "source": []
  }
 ],
 "metadata": {
  "kernelspec": {
   "display_name": "Python 3 (ipykernel)",
   "language": "python",
   "name": "python3"
  },
  "language_info": {
   "codemirror_mode": {
    "name": "ipython",
    "version": 3
   },
   "file_extension": ".py",
   "mimetype": "text/x-python",
   "name": "python",
   "nbconvert_exporter": "python",
   "pygments_lexer": "ipython3",
   "version": "3.8.10"
  }
 },
 "nbformat": 4,
 "nbformat_minor": 5
}
