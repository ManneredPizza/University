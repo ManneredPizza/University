{
 "cells": [
  {
   "cell_type": "code",
   "execution_count": 1,
   "id": "6f8486e4",
   "metadata": {},
   "outputs": [],
   "source": [
    "import math\n",
    "import matplotlib.pyplot as plt\n",
    "import numpy as np"
   ]
  },
  {
   "cell_type": "markdown",
   "id": "1aa168c7",
   "metadata": {},
   "source": [
    "# Derivata del flusso al tempo T=2pi"
   ]
  },
  {
   "cell_type": "code",
   "execution_count": 2,
   "id": "2a85e600",
   "metadata": {},
   "outputs": [],
   "source": [
    "l=0.5\n",
    "g=0.2"
   ]
  },
  {
   "cell_type": "code",
   "execution_count": 3,
   "id": "93c91f49",
   "metadata": {},
   "outputs": [],
   "source": [
    "def f(x,t):\n",
    "    return l*x*(1-x)+g*math.sin(t)"
   ]
  },
  {
   "cell_type": "code",
   "execution_count": 4,
   "id": "a97fcc1a",
   "metadata": {},
   "outputs": [],
   "source": [
    "def g_der(x):\n",
    "    return l-2*l*x"
   ]
  },
  {
   "cell_type": "code",
   "execution_count": 5,
   "id": "c58118d6",
   "metadata": {},
   "outputs": [],
   "source": [
    "def k(z,x):\n",
    "    return z*g_der(x)"
   ]
  },
  {
   "cell_type": "code",
   "execution_count": 6,
   "id": "ca489da7",
   "metadata": {},
   "outputs": [],
   "source": [
    "def RKx(x,t,tau):\n",
    "    h = (tau/2)*f(x,t)\n",
    "    x_new = x+tau*f(x+h,t+tau/2)\n",
    "    t_new = t+tau\n",
    "    return x_new, t_new\n",
    "    \n",
    "def RKz(x,z,t,tau):\n",
    "    h = (tau/2)*k(z,x)\n",
    "    #qui do in pasto a k z+h e x perché teoricamente dovrebbe essere t+tau/2 ma è autonomo, in qualsiasi caso\n",
    "    #questa equazione differenziale dipende da 3 variabili teoricamente, z(t), x(t) e t, non so, e comunque\n",
    "    #non abbiamo visto che RK è applicabile con 2 var dipendenti dal tempo + il tempo\n",
    "    z_new = z+tau*k(z+h,x)\n",
    "    t_new = t+tau\n",
    "    return z_new, t_new"
   ]
  },
  {
   "cell_type": "code",
   "execution_count": 7,
   "id": "9f0f0645",
   "metadata": {},
   "outputs": [],
   "source": [
    "tau = 1/100\n",
    "tmax = 2*math.pi\n",
    "N = int(round(tmax/tau))\n",
    "z=[]\n",
    "Ndati = 1000\n",
    "x0=np.linspace(0,2,Ndati)\n",
    "x=[]\n",
    "t=[0]"
   ]
  },
  {
   "cell_type": "code",
   "execution_count": 8,
   "id": "de01d9d0",
   "metadata": {},
   "outputs": [],
   "source": [
    "for xp in x0:\n",
    "    x.append([xp])\n",
    "    z.append([0.001])\n",
    "    t=[0]\n",
    "    for i in range(N):\n",
    "        x[-1].append(RKx(x[-1][i],t[i],tau)[0])\n",
    "        a,b = RKz(x[-1][i-1],z[-1][i],t[i],tau)\n",
    "        z[-1].append(a)\n",
    "        t.append(b)"
   ]
  },
  {
   "cell_type": "code",
   "execution_count": 9,
   "id": "4cd7fc06",
   "metadata": {},
   "outputs": [],
   "source": [
    "z2pi = [item[-1] for item in z]"
   ]
  },
  {
   "cell_type": "code",
   "execution_count": 10,
   "id": "8e7318bb",
   "metadata": {},
   "outputs": [],
   "source": [
    "phi2pi = [item[-1] for item in x]"
   ]
  },
  {
   "cell_type": "code",
   "execution_count": 11,
   "id": "54a9a36d",
   "metadata": {},
   "outputs": [],
   "source": [
    "#metodo 1\n",
    "phi2pi_der = [item[-1]/item[0] for item in z]"
   ]
  },
  {
   "cell_type": "markdown",
   "id": "fe882b97",
   "metadata": {},
   "source": [
    "# Confronto derivata calcolata sopra con rapporto incrementale"
   ]
  },
  {
   "cell_type": "code",
   "execution_count": 12,
   "id": "874e90c8",
   "metadata": {},
   "outputs": [],
   "source": [
    "#metodo 2\n",
    "phi2pi_der_ri = [(phi2pi[i+1]-phi2pi[i])/0.001 for i in range(999)]"
   ]
  },
  {
   "cell_type": "code",
   "execution_count": 13,
   "id": "13f8ef3d",
   "metadata": {},
   "outputs": [
    {
     "data": {
      "image/png": "[encoded data removed]",
      "text/plain": [
       "<Figure size 432x288 with 1 Axes>"
      ]
     },
     "metadata": {
      "needs_background": "light"
     },
     "output_type": "display_data"
    }
   ],
   "source": [
    "plt.plot(x0[:999],phi2pi_der_ri)\n",
    "plt.plot(x0,phi2pi_der)\n",
    "legend = plt.legend(['Metodo 2','Metodo 1'], title = \"Legenda\")\n",
    "plt.grid()\n",
    "plt.show()"
   ]
  },
  {
   "cell_type": "code",
   "execution_count": null,
   "id": "193803e2",
   "metadata": {},
   "outputs": [],
   "source": []
  }
 ],
 "metadata": {
  "kernelspec": {
   "display_name": "Python 3 (ipykernel)",
   "language": "python",
   "name": "python3"
  },
  "language_info": {
   "codemirror_mode": {
    "name": "ipython",
    "version": 3
   },
   "file_extension": ".py",
   "mimetype": "text/x-python",
   "name": "python",
   "nbconvert_exporter": "python",
   "pygments_lexer": "ipython3",
   "version": "3.8.10"
  }
 },
 "nbformat": 4,
 "nbformat_minor": 5
}
